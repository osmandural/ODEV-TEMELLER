{
 "cells": [
  {
   "cell_type": "code",
   "execution_count": 14,
   "metadata": {},
   "outputs": [
    {
     "name": "stdout",
     "output_type": "stream",
     "text": [
      "Haftalık toplam para: 1840.0 dolar. NOT: HOLOCHAİN is coming!\n"
     ]
    }
   ],
   "source": [
    "anapara=1000\n",
    "artıs=12/100\n",
    "gun=7\n",
    "print(\"Haftalık toplam para:\", anapara*artıs*gun+anapara, \"dolar.\" ,\"NOT: HOLOCHAİN is coming!\")"
   ]
  },
  {
   "cell_type": "code",
   "execution_count": 18,
   "metadata": {},
   "outputs": [],
   "source": [
    "kazanc=1210.68"
   ]
  },
  {
   "cell_type": "code",
   "execution_count": 19,
   "metadata": {},
   "outputs": [
    {
     "name": "stdout",
     "output_type": "stream",
     "text": [
      "Hafta başında 1000 dolarlık bitcoin aldığımızda günde ortalama 0.12 kazançla,bir hafta sonunda 1210.68 dolar kazanırdık.\n"
     ]
    }
   ],
   "source": [
    "metin=\"Hafta başında {} dolarlık bitcoin aldığımızda günde ortalama {:.2f} kazançla,bir hafta sonunda {} dolar kazanırdık.\"\n",
    "print(metin.format(anapara,artıs,kazanc))"
   ]
  }
 ],
 "metadata": {
  "kernelspec": {
   "display_name": "Python 3",
   "language": "python",
   "name": "python3"
  },
  "language_info": {
   "codemirror_mode": {
    "name": "ipython",
    "version": 3
   },
   "file_extension": ".py",
   "mimetype": "text/x-python",
   "name": "python",
   "nbconvert_exporter": "python",
   "pygments_lexer": "ipython3",
   "version": "3.7.3"
  }
 },
 "nbformat": 4,
 "nbformat_minor": 2
}
